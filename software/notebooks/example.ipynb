{
 "cells": [
  {
   "cell_type": "code",
   "execution_count": 1,
   "id": "afe95d27-a75e-4e4b-a273-5e7348c4f986",
   "metadata": {},
   "outputs": [],
   "source": [
    "# Setup the library\n",
    "import pyrogue as pr\n",
    "import os\n",
    "top_level=f'{os.getcwd()}/..'\n",
    "pr.addLibraryPath( f'{top_level}/scripts' )\n",
    "import setupLibPaths\n",
    "\n",
    "# Add user python libs\n",
    "import simple_10gbe_rudp_kcu105_example as devBoard"
   ]
  },
  {
   "cell_type": "code",
   "execution_count": 2,
   "id": "73a91cdc-f4b6-4051-accd-fcfa3f258f57",
   "metadata": {},
   "outputs": [
    {
     "name": "stdout",
     "output_type": "stream",
     "text": [
      "Start: Started zmqServer on ports 9099-9101\n",
      "    To start a gui: python -m pyrogue gui --server='localhost:9099'\n",
      "    To use a virtual client: client = pyrogue.interfaces.VirtualClient(addr='localhost', port=9099)\n",
      "Root.Core.AxiVersion count reset called\n"
     ]
    },
    {
     "data": {
      "text/plain": [
       "True"
      ]
     },
     "execution_count": 2,
     "metadata": {},
     "output_type": "execute_result"
    }
   ],
   "source": [
    "# Set base\n",
    "root = devBoard.Root(ip = '192.168.2.10')\n",
    "\n",
    "# Start the system\n",
    "root.start()\n",
    "\n",
    "# Read all the variables\n",
    "root.ReadAll()"
   ]
  },
  {
   "cell_type": "code",
   "execution_count": 3,
   "id": "4b684e4b-b333-4ce0-83c4-deec2eb1bf3b",
   "metadata": {},
   "outputs": [
    {
     "name": "stdout",
     "output_type": "stream",
     "text": [
      "###################################################\n",
      "#             Firmware Version                    #\n",
      "###################################################\n",
      "Path         = Root.Core.AxiVersion\n",
      "FwVersion    = 0x2010000\n",
      "UpTime       = 0:16:06\n",
      "GitHash      = 0x241e39219d38addba00f0526b07260022ff8a54f\n",
      "XilinxDnaId  = 0x40020001814dbd853510a545\n",
      "FwTarget     = Simple10GbeRudpKcu105Example\n",
      "BuildEnv     = Vivado v2021.2\n",
      "BuildServer  = rdsrv307 (Ubuntu 20.04.5 LTS)\n",
      "BuildDate    = Wed 19 Oct 2022 10:14:18 AM PDT\n",
      "Builder      = adave\n",
      "###################################################\n"
     ]
    }
   ],
   "source": [
    "# Create useful pointers\n",
    "AxiVersion = root.Core.AxiVersion\n",
    "print ( '###################################################')\n",
    "print ( '#             Firmware Version                    #')\n",
    "print ( '###################################################')\n",
    "AxiVersion.printStatus()\n",
    "print ( '###################################################')"
   ]
  },
  {
   "cell_type": "code",
   "execution_count": 4,
   "id": "b12fce2e-e784-425a-91bd-2fea434ed8b4",
   "metadata": {},
   "outputs": [],
   "source": [
    "# Stop the system\n",
    "root.stop()"
   ]
  },
  {
   "cell_type": "code",
   "execution_count": null,
   "id": "aade30af-2bd7-43d7-892a-900ec3660fce",
   "metadata": {},
   "outputs": [],
   "source": []
  }
 ],
 "metadata": {
  "kernelspec": {
   "display_name": "Python 3 (ipykernel)",
   "language": "python",
   "name": "python3"
  },
  "language_info": {
   "codemirror_mode": {
    "name": "ipython",
    "version": 3
   },
   "file_extension": ".py",
   "mimetype": "text/x-python",
   "name": "python",
   "nbconvert_exporter": "python",
   "pygments_lexer": "ipython3",
   "version": "3.9.13"
  }
 },
 "nbformat": 4,
 "nbformat_minor": 5
}
